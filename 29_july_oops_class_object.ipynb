{
  "nbformat": 4,
  "nbformat_minor": 0,
  "metadata": {
    "colab": {
      "provenance": []
    },
    "kernelspec": {
      "name": "python3",
      "display_name": "Python 3"
    },
    "language_info": {
      "name": "python"
    }
  },
  "cells": [
    {
      "cell_type": "code",
      "execution_count": null,
      "metadata": {
        "id": "o75A56yAQqr1"
      },
      "outputs": [],
      "source": [
        "# class\n",
        "\n",
        "\n",
        "class Student:\n",
        "  pass"
      ]
    },
    {
      "cell_type": "code",
      "source": [
        "print(type(Student))"
      ],
      "metadata": {
        "colab": {
          "base_uri": "https://localhost:8080/"
        },
        "id": "G80dJT-4Qy0n",
        "outputId": "39c05c71-95c3-4d30-8ec5-c592aa20d45a"
      },
      "execution_count": null,
      "outputs": [
        {
          "output_type": "stream",
          "name": "stdout",
          "text": [
            "<class 'type'>\n"
          ]
        }
      ]
    },
    {
      "cell_type": "code",
      "source": [
        "class Pakode:\n",
        "  p1=\"kanda bhaje\"\n",
        "  p2=\"aloo pakode\""
      ],
      "metadata": {
        "id": "jPCuVAFbX-oU"
      },
      "execution_count": null,
      "outputs": []
    },
    {
      "cell_type": "code",
      "source": [
        "raju=Pakode()\n"
      ],
      "metadata": {
        "id": "6CcQc3kkYkWq"
      },
      "execution_count": null,
      "outputs": []
    },
    {
      "cell_type": "code",
      "source": [
        "print(type(raju))"
      ],
      "metadata": {
        "colab": {
          "base_uri": "https://localhost:8080/"
        },
        "id": "fvLUu11-YnwD",
        "outputId": "7a5d576f-e4d8-4f50-a2d5-242f7062fc90"
      },
      "execution_count": null,
      "outputs": [
        {
          "output_type": "stream",
          "name": "stdout",
          "text": [
            "<class '__main__.Pakode'>\n"
          ]
        }
      ]
    },
    {
      "cell_type": "code",
      "source": [
        "raju.p1"
      ],
      "metadata": {
        "colab": {
          "base_uri": "https://localhost:8080/",
          "height": 36
        },
        "id": "1OsFmcRKYqPJ",
        "outputId": "efc042a4-d9b9-49ce-c6f8-16a9f5d359f2"
      },
      "execution_count": null,
      "outputs": [
        {
          "output_type": "execute_result",
          "data": {
            "text/plain": [
              "'kanda bhaje'"
            ],
            "application/vnd.google.colaboratory.intrinsic+json": {
              "type": "string"
            }
          },
          "metadata": {},
          "execution_count": 10
        }
      ]
    },
    {
      "cell_type": "code",
      "source": [
        "raju.p2"
      ],
      "metadata": {
        "colab": {
          "base_uri": "https://localhost:8080/",
          "height": 36
        },
        "id": "XpCsY-MwYtMC",
        "outputId": "198ff5ba-e746-4d7e-9720-0129151ff259"
      },
      "execution_count": null,
      "outputs": [
        {
          "output_type": "execute_result",
          "data": {
            "text/plain": [
              "'aloo pakode'"
            ],
            "application/vnd.google.colaboratory.intrinsic+json": {
              "type": "string"
            }
          },
          "metadata": {},
          "execution_count": 11
        }
      ]
    },
    {
      "cell_type": "code",
      "source": [
        "class Pakode:\n",
        "  p1=\"kanda bhaje\"\n",
        "  p2=\"aloo pakode\"\n",
        "class Dosa:\n",
        "  t1=\"cut dosa\"\n",
        "  t2=\"masals dosa\""
      ],
      "metadata": {
        "id": "08Iy_bQZYydE"
      },
      "execution_count": null,
      "outputs": []
    },
    {
      "cell_type": "code",
      "source": [
        "kaju=Dosa()"
      ],
      "metadata": {
        "id": "EB2L_6-VZMmD"
      },
      "execution_count": null,
      "outputs": []
    },
    {
      "cell_type": "code",
      "source": [
        "kaju.t1"
      ],
      "metadata": {
        "colab": {
          "base_uri": "https://localhost:8080/",
          "height": 36
        },
        "id": "vXpm1yC6ZOt0",
        "outputId": "b8ff143b-67f6-4463-f610-dbbe92b19724"
      },
      "execution_count": null,
      "outputs": [
        {
          "output_type": "execute_result",
          "data": {
            "text/plain": [
              "'cut dosa'"
            ],
            "application/vnd.google.colaboratory.intrinsic+json": {
              "type": "string"
            }
          },
          "metadata": {},
          "execution_count": 14
        }
      ]
    },
    {
      "cell_type": "code",
      "source": [
        "kaju.t2"
      ],
      "metadata": {
        "colab": {
          "base_uri": "https://localhost:8080/",
          "height": 36
        },
        "id": "IiRQVJhGZQNk",
        "outputId": "8de5f17e-4a30-4062-f7e6-8bbe5bfaa93b"
      },
      "execution_count": null,
      "outputs": [
        {
          "output_type": "execute_result",
          "data": {
            "text/plain": [
              "'masals dosa'"
            ],
            "application/vnd.google.colaboratory.intrinsic+json": {
              "type": "string"
            }
          },
          "metadata": {},
          "execution_count": 15
        }
      ]
    },
    {
      "cell_type": "code",
      "source": [
        "class cars:\n",
        "  z1=\"bmw\"\n",
        "  z2=\"audi\"\n",
        "class bikes:\n",
        "  y1=\"yamaha\"\n",
        "  t2=\"Royal enfield\"\n",
        "\n",
        "\n",
        "\n"
      ],
      "metadata": {
        "id": "U6Pw4V75ZS35"
      },
      "execution_count": null,
      "outputs": []
    },
    {
      "cell_type": "code",
      "source": [
        "automobile=cars()"
      ],
      "metadata": {
        "id": "crQ4J_P1aXg8"
      },
      "execution_count": null,
      "outputs": []
    },
    {
      "cell_type": "code",
      "source": [
        "automobile.z1"
      ],
      "metadata": {
        "colab": {
          "base_uri": "https://localhost:8080/",
          "height": 36
        },
        "id": "5gk3O-aKa7fz",
        "outputId": "9aac13db-b06b-4bda-dfb7-e613587db42c"
      },
      "execution_count": null,
      "outputs": [
        {
          "output_type": "execute_result",
          "data": {
            "text/plain": [
              "'bmw'"
            ],
            "application/vnd.google.colaboratory.intrinsic+json": {
              "type": "string"
            }
          },
          "metadata": {},
          "execution_count": 25
        }
      ]
    },
    {
      "cell_type": "code",
      "source": [
        "automobile.z2"
      ],
      "metadata": {
        "colab": {
          "base_uri": "https://localhost:8080/",
          "height": 36
        },
        "id": "rdlrS9tDa86X",
        "outputId": "6994f6f0-92af-4c5f-afa3-7fbbd94e4f74"
      },
      "execution_count": null,
      "outputs": [
        {
          "output_type": "execute_result",
          "data": {
            "text/plain": [
              "'audi'"
            ],
            "application/vnd.google.colaboratory.intrinsic+json": {
              "type": "string"
            }
          },
          "metadata": {},
          "execution_count": 27
        }
      ]
    },
    {
      "cell_type": "code",
      "source": [
        "motorbike=bikes()"
      ],
      "metadata": {
        "id": "ViZMFWqCa_Cc"
      },
      "execution_count": null,
      "outputs": []
    },
    {
      "cell_type": "code",
      "source": [
        "motorbike.y1"
      ],
      "metadata": {
        "colab": {
          "base_uri": "https://localhost:8080/",
          "height": 36
        },
        "id": "oJ2ys4NRbECs",
        "outputId": "9cd5a023-8d83-4ef8-9010-4967206352fa"
      },
      "execution_count": null,
      "outputs": [
        {
          "output_type": "execute_result",
          "data": {
            "text/plain": [
              "'yamaha'"
            ],
            "application/vnd.google.colaboratory.intrinsic+json": {
              "type": "string"
            }
          },
          "metadata": {},
          "execution_count": 33
        }
      ]
    },
    {
      "cell_type": "code",
      "source": [],
      "metadata": {
        "id": "JMTy25SXbJqa"
      },
      "execution_count": null,
      "outputs": []
    },
    {
      "cell_type": "code",
      "source": [],
      "metadata": {
        "id": "QE9Bx8HvbNCE"
      },
      "execution_count": null,
      "outputs": []
    },
    {
      "cell_type": "code",
      "source": [
        "#constructor\n",
        "\n",
        "\n",
        "\n",
        "class Fruits:\n",
        "  def __init__(self,name,color,taste):\n",
        "    self.name=name\n",
        "    self.color=color\n",
        "    self.taste=taste\n",
        "    print(\"this function is running\")"
      ],
      "metadata": {
        "id": "w9NBrQPXbPwR"
      },
      "execution_count": null,
      "outputs": []
    },
    {
      "cell_type": "code",
      "source": [
        "f1=Fruits(\"apple\",\"red\",\"sweet\")\n",
        "f2=Fruits(\"mango\",\"yellow\",\"sweet\")"
      ],
      "metadata": {
        "colab": {
          "base_uri": "https://localhost:8080/"
        },
        "id": "0meOMNUZdAz3",
        "outputId": "1693209b-a24d-4abe-bb5c-99238eef8cd7"
      },
      "execution_count": null,
      "outputs": [
        {
          "output_type": "stream",
          "name": "stdout",
          "text": [
            "this function is running\n",
            "this function is running\n"
          ]
        }
      ]
    },
    {
      "cell_type": "code",
      "source": [
        "f2.name"
      ],
      "metadata": {
        "colab": {
          "base_uri": "https://localhost:8080/",
          "height": 36
        },
        "id": "zo4cOkQUeXjX",
        "outputId": "c375d30d-40aa-4e1c-ba3d-905a133a0430"
      },
      "execution_count": null,
      "outputs": [
        {
          "output_type": "execute_result",
          "data": {
            "text/plain": [
              "'mango'"
            ],
            "application/vnd.google.colaboratory.intrinsic+json": {
              "type": "string"
            }
          },
          "metadata": {},
          "execution_count": 40
        }
      ]
    },
    {
      "cell_type": "code",
      "source": [
        "f1.taste"
      ],
      "metadata": {
        "colab": {
          "base_uri": "https://localhost:8080/",
          "height": 36
        },
        "id": "8df0S22gedD1",
        "outputId": "2ae42d8d-76df-4a4d-c58d-a46865ea1c85"
      },
      "execution_count": null,
      "outputs": [
        {
          "output_type": "execute_result",
          "data": {
            "text/plain": [
              "'sweet'"
            ],
            "application/vnd.google.colaboratory.intrinsic+json": {
              "type": "string"
            }
          },
          "metadata": {},
          "execution_count": 44
        }
      ]
    },
    {
      "cell_type": "code",
      "source": [
        "class Student:\n",
        "  def __init__(mera,name,age,dept):\n",
        "   mera.name=name\n",
        "   mera.age=age\n",
        "   mera.dept=dept\n",
        "   mera.attitude=\"cool\"\n"
      ],
      "metadata": {
        "id": "WjCHoaRrejnh"
      },
      "execution_count": null,
      "outputs": []
    },
    {
      "cell_type": "code",
      "source": [
        "sagar=Student(\"sagar\",23,\"forensic\")\n",
        "hemangi=Student(\"hemangi\",23,\"Crime\")\n",
        "Ashish=Student(\"Ashish\",22,\"fun\")"
      ],
      "metadata": {
        "id": "S9oHQyQte6SC"
      },
      "execution_count": null,
      "outputs": []
    },
    {
      "cell_type": "code",
      "source": [
        "Ashish.dept"
      ],
      "metadata": {
        "colab": {
          "base_uri": "https://localhost:8080/",
          "height": 36
        },
        "id": "wdhg5rIofYPV",
        "outputId": "b6ff7095-bd46-4240-d10e-bbdf7a521f78"
      },
      "execution_count": null,
      "outputs": [
        {
          "output_type": "execute_result",
          "data": {
            "text/plain": [
              "'fun'"
            ],
            "application/vnd.google.colaboratory.intrinsic+json": {
              "type": "string"
            }
          },
          "metadata": {},
          "execution_count": 61
        }
      ]
    },
    {
      "cell_type": "code",
      "source": [
        "hemangi.attitude=\"Not cool\""
      ],
      "metadata": {
        "id": "Uc-DX4MKgE-h"
      },
      "execution_count": null,
      "outputs": []
    },
    {
      "cell_type": "code",
      "source": [
        "Ashish.attitude"
      ],
      "metadata": {
        "colab": {
          "base_uri": "https://localhost:8080/",
          "height": 36
        },
        "id": "gzIIxIS_gdyH",
        "outputId": "22aa0c30-44a6-4750-b353-6113cebd10b3"
      },
      "execution_count": null,
      "outputs": [
        {
          "output_type": "execute_result",
          "data": {
            "text/plain": [
              "'cool'"
            ],
            "application/vnd.google.colaboratory.intrinsic+json": {
              "type": "string"
            }
          },
          "metadata": {},
          "execution_count": 63
        }
      ]
    },
    {
      "cell_type": "code",
      "source": [],
      "metadata": {
        "id": "4pTX1MHYgl7l"
      },
      "execution_count": null,
      "outputs": []
    },
    {
      "cell_type": "code",
      "source": [
        "# Define a class named 'Car'\n",
        "class Car:\n",
        "    # Constructor method (__init__)\n",
        "    def __init__(self, make, model, year):\n",
        "        # Attributes (instance variables)\n",
        "        self.make = make\n",
        "        self.model = model\n",
        "        self.year = year\n",
        "        self.mileage = 0  # Default value for mileage\n",
        "\n",
        "    # Method to display car details\n",
        "    def display_info(self):\n",
        "        print(f\"{self.year} {self.make} {self.model}, Mileage: {self.mileage} miles\")\n",
        "\n",
        "    # Method to update mileage\n",
        "    def drive(self, miles):\n",
        "        self.mileage += miles\n",
        "        print(f\"Driven {miles} miles. Total mileage: {self.mileage} miles\")\n",
        "\n",
        "# Create objects (instances) of the Car class\n",
        "car1 = Car(\"Toyota\", \"Corolla\", 2020)\n",
        "car2 = Car(\"Tesla\", \"Model S\", 2023)\n",
        "\n",
        "# Display car information\n",
        "car1.display_info()\n",
        "car2.display_info()\n",
        "\n",
        "# Drive the cars and update mileage\n",
        "# car1.drive(100)\n",
        "# car2.drive(250)\n",
        "\n",
        "# Display updated information\n",
        "# car1.display_info()\n",
        "# car2.display_info()"
      ],
      "metadata": {
        "id": "zQ78xbRWjrMr"
      },
      "execution_count": null,
      "outputs": []
    },
    {
      "cell_type": "code",
      "source": [
        "\n",
        "class bank:\n",
        "  def __init__(self,name,balance,account):\n",
        "    self.name=name\n",
        "    self.balance=balance\n",
        "    self.account=account\n",
        "    self.amount=0\n",
        "\n",
        "  def display_info(self):\n",
        "      print(f\"{self.name} {self.balance} {self.account}, Amount:{self.amount} rupees\")\n",
        "\n",
        "  def depoist(self,amount):\n",
        "    self.balance +=amount\n",
        "    print(f\"Deposited {amount} rupees. Total balance: {self.balance} rupees\")\n",
        "\n",
        "  def withdraw(self,amount):\n",
        "    self.balance -=amount\n",
        "    print(f\"withdraw {amount} rupees. Total balance: {self.balance} rupees\")\n",
        "\n"
      ],
      "metadata": {
        "id": "EaZxH5zAZY77"
      },
      "execution_count": null,
      "outputs": []
    },
    {
      "cell_type": "code",
      "source": [
        "acc1=bank(\"yash\",10000,123)"
      ],
      "metadata": {
        "id": "TQ457ObejQ1d"
      },
      "execution_count": null,
      "outputs": []
    },
    {
      "cell_type": "code",
      "source": [
        "acc1.display_info()"
      ],
      "metadata": {
        "colab": {
          "base_uri": "https://localhost:8080/"
        },
        "id": "M9R1m9RIqIIM",
        "outputId": "66f99353-ab08-430f-f4f1-1c879c4a2ea2"
      },
      "execution_count": null,
      "outputs": [
        {
          "output_type": "stream",
          "name": "stdout",
          "text": [
            "yash 10000 123, Amount:0 rupees\n"
          ]
        }
      ]
    },
    {
      "cell_type": "code",
      "source": [
        "acc1.depoist(1000)"
      ],
      "metadata": {
        "colab": {
          "base_uri": "https://localhost:8080/"
        },
        "id": "Sj9bskgjqiu7",
        "outputId": "a23b9957-f869-4f53-adc2-405a96e4046f"
      },
      "execution_count": null,
      "outputs": [
        {
          "output_type": "stream",
          "name": "stdout",
          "text": [
            "Deposited 1000 rupees. Total balance: 11000 rupees\n"
          ]
        }
      ]
    },
    {
      "cell_type": "code",
      "source": [
        "acc1.depoist(50000)"
      ],
      "metadata": {
        "colab": {
          "base_uri": "https://localhost:8080/"
        },
        "id": "8A4B77Etqwz9",
        "outputId": "2ca35684-1601-4a7f-c622-28f9e0b0f19b"
      },
      "execution_count": null,
      "outputs": [
        {
          "output_type": "stream",
          "name": "stdout",
          "text": [
            "Deposited 50000 rupees. Total balance: 26000 rupees\n"
          ]
        }
      ]
    },
    {
      "cell_type": "code",
      "source": [],
      "metadata": {
        "id": "RkzC9cmqq1Zr"
      },
      "execution_count": null,
      "outputs": []
    }
  ]
}